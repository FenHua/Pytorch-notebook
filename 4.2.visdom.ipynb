{
 "cells": [
  {
   "cell_type": "code",
   "execution_count": 4,
   "metadata": {},
   "outputs": [
    {
     "data": {
      "text/plain": [
       "'1.0.1.post2'"
      ]
     },
     "execution_count": 4,
     "metadata": {},
     "output_type": "execute_result"
    }
   ],
   "source": [
    "import torch\n",
    "import math\n",
    "import numpy as np\n",
    "from visdom import Visdom\n",
    "import time\n",
    "torch.__version__"
   ]
  },
  {
   "cell_type": "code",
   "execution_count": 6,
   "metadata": {},
   "outputs": [
    {
     "name": "stderr",
     "output_type": "stream",
     "text": [
      "WARNING:root:Setting up a new session...\n"
     ]
    }
   ],
   "source": [
    "env=Visdom()\n",
    "assert env.check_connection() # 测试链接，连接错误会报错"
   ]
  },
  {
   "cell_type": "code",
   "execution_count": 7,
   "metadata": {
    "collapsed": true
   },
   "outputs": [],
   "source": [
    "Y=np.linspace(0,2*math.pi,70)\n",
    "X=np.column_stack((np.sin(Y),np.cos(Y)))"
   ]
  },
  {
   "cell_type": "code",
   "execution_count": 9,
   "metadata": {},
   "outputs": [
    {
     "data": {
      "text/plain": [
       "'window_37460abaf6fd2c'"
      ]
     },
     "execution_count": 9,
     "metadata": {},
     "output_type": "execute_result"
    }
   ],
   "source": [
    "env.stem(\n",
    "    X=X,\n",
    "    Y=Y,\n",
    "    opts=dict(legend=['Sine','Cosine'])\n",
    ")"
   ]
  },
  {
   "cell_type": "code",
   "execution_count": 10,
   "metadata": {},
   "outputs": [
    {
     "name": "stderr",
     "output_type": "stream",
     "text": [
      "WARNING:root:Setting up a new session...\n"
     ]
    }
   ],
   "source": [
    "envtest=Visdom(env='test_mesh')\n",
    "assert envtest.check_connection()"
   ]
  },
  {
   "cell_type": "code",
   "execution_count": 11,
   "metadata": {},
   "outputs": [
    {
     "data": {
      "text/plain": [
       "'window_37460ba4ed4070'"
      ]
     },
     "execution_count": 11,
     "metadata": {},
     "output_type": "execute_result"
    }
   ],
   "source": [
    "x=[0,0,1,1,0,0,1,1]\n",
    "y=[0,1,1,0,0,1,1,0]\n",
    "z=[0,0,0,0,1,1,1,1]\n",
    "X=np.c_[x,y,z]\n",
    "i = [7, 0, 0, 0, 4, 4, 6, 6, 4, 0, 3, 2]\n",
    "j = [3, 4, 1, 2, 5, 6, 5, 2, 0, 1, 6, 3]\n",
    "k = [0, 7, 2, 3, 6, 7, 1, 1, 5, 5, 7, 6]\n",
    "Y=np.c_[i,j,k]\n",
    "envtest.mesh(X=X,Y=Y,opts=dict(opacity=0.5))"
   ]
  },
  {
   "cell_type": "code",
   "execution_count": 12,
   "metadata": {},
   "outputs": [
    {
     "name": "stderr",
     "output_type": "stream",
     "text": [
      "WARNING:root:Setting up a new session...\n"
     ]
    }
   ],
   "source": [
    "x,y=0,0\n",
    "env2=Visdom()\n",
    "pane1=env2.line(\n",
    "X=np.array([x]),\n",
    "Y=np.array([y]),\n",
    "opts=dict(title='dynamic data'))"
   ]
  },
  {
   "cell_type": "code",
   "execution_count": 15,
   "metadata": {},
   "outputs": [
    {
     "name": "stdout",
     "output_type": "stream",
     "text": [
      "90 27278.383812904358\n",
      "91 40919.07571935654\n",
      "93 61381.613579034805\n",
      "96 92076.92036855221\n",
      "100 138121.3805528283\n",
      "105 207189.57082924247\n",
      "111 310793.3562438637\n",
      "118 466200.53436579555\n",
      "126 699312.8015486933\n",
      "135 1048982.70232304\n"
     ]
    }
   ],
   "source": [
    "for i in range(10):\n",
    "    time.sleep(1) # 每间隔一秒打印一次数据\n",
    "    x+=i\n",
    "    y=(y+i)*1.5\n",
    "    print(x,y)\n",
    "    env2.line(\n",
    "    X=np.array([x]),\n",
    "    Y=np.array([y]),\n",
    "    win=pane1, # win 参数确认使用哪一个pane\n",
    "    update='append'\n",
    "    ) # 我们做的动作是追加"
   ]
  },
  {
   "cell_type": "code",
   "execution_count": null,
   "metadata": {
    "collapsed": true
   },
   "outputs": [],
   "source": []
  }
 ],
 "metadata": {
  "kernelspec": {
   "display_name": "Python conda",
   "language": "python",
   "name": "base"
  },
  "language_info": {
   "codemirror_mode": {
    "name": "ipython",
    "version": 3
   },
   "file_extension": ".py",
   "mimetype": "text/x-python",
   "name": "python",
   "nbconvert_exporter": "python",
   "pygments_lexer": "ipython3",
   "version": "3.6.8"
  }
 },
 "nbformat": 4,
 "nbformat_minor": 2
}
