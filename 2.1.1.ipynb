{
 "cells": [
  {
   "cell_type": "code",
   "execution_count": 1,
   "metadata": {},
   "outputs": [
    {
     "data": {
      "text/plain": [
       "'1.0.1.post2'"
      ]
     },
     "execution_count": 1,
     "metadata": {},
     "output_type": "execute_result"
    }
   ],
   "source": [
    "import torch\n",
    "import numpy as np\n",
    "torch.__version__"
   ]
  },
  {
   "cell_type": "code",
   "execution_count": 2,
   "metadata": {
    "collapsed": true
   },
   "outputs": [],
   "source": [
    "x=torch.rand(2,3)"
   ]
  },
  {
   "cell_type": "code",
   "execution_count": 3,
   "metadata": {},
   "outputs": [
    {
     "data": {
      "text/plain": [
       "tensor([[0.5377, 0.0430, 0.6023],\n",
       "        [0.5582, 0.6585, 0.2767]])"
      ]
     },
     "execution_count": 3,
     "metadata": {},
     "output_type": "execute_result"
    }
   ],
   "source": [
    "x"
   ]
  },
  {
   "cell_type": "code",
   "execution_count": 4,
   "metadata": {},
   "outputs": [
    {
     "name": "stdout",
     "output_type": "stream",
     "text": [
      "torch.Size([2, 3])\n",
      "torch.Size([2, 3])\n"
     ]
    }
   ],
   "source": [
    "print(x.shape)\n",
    "print(x.size())"
   ]
  },
  {
   "cell_type": "code",
   "execution_count": 5,
   "metadata": {},
   "outputs": [
    {
     "name": "stdout",
     "output_type": "stream",
     "text": [
      "torch.Size([2, 3, 4, 5])\n"
     ]
    },
    {
     "data": {
      "text/plain": [
       "tensor([[[[0.1671, 0.6415, 0.9113, 0.8482, 0.5559],\n",
       "          [0.0179, 0.9606, 0.8086, 0.0790, 0.2697],\n",
       "          [0.6972, 0.4565, 0.5139, 0.7354, 0.7594],\n",
       "          [0.9081, 0.8767, 0.4816, 0.8157, 0.9705]],\n",
       "\n",
       "         [[0.3523, 0.4582, 0.9269, 0.1317, 0.5118],\n",
       "          [0.4718, 0.3737, 0.2796, 0.8101, 0.1457],\n",
       "          [0.7216, 0.7433, 0.3988, 0.6856, 0.8200],\n",
       "          [0.4752, 0.0289, 0.1679, 0.3271, 0.4455]],\n",
       "\n",
       "         [[0.4345, 0.7406, 0.8038, 0.4441, 0.4123],\n",
       "          [0.5255, 0.5877, 0.4869, 0.3346, 0.0792],\n",
       "          [0.4579, 0.8724, 0.1696, 0.6146, 0.8842],\n",
       "          [0.4134, 0.8037, 0.1277, 0.4113, 0.2882]]],\n",
       "\n",
       "\n",
       "        [[[0.8370, 0.6021, 0.0473, 0.7110, 0.7378],\n",
       "          [0.3380, 0.6422, 0.6878, 0.4286, 0.9613],\n",
       "          [0.4980, 0.4775, 0.8720, 0.7986, 0.1024],\n",
       "          [0.1149, 0.9237, 0.9078, 0.4555, 0.8549]],\n",
       "\n",
       "         [[0.9921, 0.4111, 0.2846, 0.4292, 0.3737],\n",
       "          [0.0701, 0.1419, 0.4694, 0.7538, 0.0372],\n",
       "          [0.9243, 0.9955, 0.0822, 0.3478, 0.3466],\n",
       "          [0.4195, 0.6983, 0.2603, 0.1063, 0.3318]],\n",
       "\n",
       "         [[0.4802, 0.5973, 0.2642, 0.1844, 0.5018],\n",
       "          [0.5296, 0.9222, 0.0162, 0.0167, 0.0614],\n",
       "          [0.5539, 0.6607, 0.6563, 0.8527, 0.4572],\n",
       "          [0.1198, 0.4103, 0.7462, 0.1070, 0.5155]]]])"
      ]
     },
     "execution_count": 5,
     "metadata": {},
     "output_type": "execute_result"
    }
   ],
   "source": [
    "y=torch.rand(2,3,4,5)\n",
    "print(y.size())\n",
    "y"
   ]
  },
  {
   "cell_type": "code",
   "execution_count": 6,
   "metadata": {},
   "outputs": [
    {
     "name": "stdout",
     "output_type": "stream",
     "text": [
      "tensor(3.1422)\n"
     ]
    },
    {
     "data": {
      "text/plain": [
       "torch.Size([])"
      ]
     },
     "execution_count": 6,
     "metadata": {},
     "output_type": "execute_result"
    }
   ],
   "source": [
    "scalar=torch.tensor(3.14222) # 直接使用现有数字生成\n",
    "print(scalar)\n",
    "scalar.size()"
   ]
  },
  {
   "cell_type": "code",
   "execution_count": 7,
   "metadata": {},
   "outputs": [
    {
     "data": {
      "text/plain": [
       "3.1422200202941895"
      ]
     },
     "execution_count": 7,
     "metadata": {},
     "output_type": "execute_result"
    }
   ],
   "source": [
    "scalar.item()"
   ]
  },
  {
   "cell_type": "code",
   "execution_count": 8,
   "metadata": {},
   "outputs": [
    {
     "name": "stdout",
     "output_type": "stream",
     "text": [
      "tensor([3.1423])\n"
     ]
    },
    {
     "data": {
      "text/plain": [
       "torch.Size([1])"
      ]
     },
     "execution_count": 8,
     "metadata": {},
     "output_type": "execute_result"
    }
   ],
   "source": [
    "tensor=torch.tensor([3.142323])\n",
    "print(tensor)\n",
    "tensor.size()"
   ]
  },
  {
   "cell_type": "code",
   "execution_count": 9,
   "metadata": {},
   "outputs": [
    {
     "data": {
      "text/plain": [
       "3.1423230171203613"
      ]
     },
     "execution_count": 9,
     "metadata": {},
     "output_type": "execute_result"
    }
   ],
   "source": [
    "tensor.item() # 张量中只有一个元素也可以调用item"
   ]
  },
  {
   "cell_type": "code",
   "execution_count": 10,
   "metadata": {},
   "outputs": [
    {
     "data": {
      "text/plain": [
       "tensor([3])"
      ]
     },
     "execution_count": 10,
     "metadata": {},
     "output_type": "execute_result"
    }
   ],
   "source": [
    "long=tensor.long()\n",
    "long"
   ]
  },
  {
   "cell_type": "code",
   "execution_count": 11,
   "metadata": {},
   "outputs": [
    {
     "data": {
      "text/plain": [
       "tensor([3], dtype=torch.int32)"
      ]
     },
     "execution_count": 11,
     "metadata": {},
     "output_type": "execute_result"
    }
   ],
   "source": [
    "int_t=tensor.int()\n",
    "int_t"
   ]
  },
  {
   "cell_type": "code",
   "execution_count": 12,
   "metadata": {},
   "outputs": [
    {
     "name": "stdout",
     "output_type": "stream",
     "text": [
      "[[-0.6619309  -0.54787374]\n",
      " [ 0.4030662   0.23653856]\n",
      " [ 1.3325671   0.34952483]]\n"
     ]
    }
   ],
   "source": [
    "a=torch.randn((3,2))\n",
    "numpy_a=a.numpy() # tensor转换为numpy\n",
    "print(numpy_a)"
   ]
  },
  {
   "cell_type": "code",
   "execution_count": 13,
   "metadata": {},
   "outputs": [
    {
     "data": {
      "text/plain": [
       "tensor([[-0.6619, -0.5479],\n",
       "        [ 0.4031,  0.2365],\n",
       "        [ 1.3326,  0.3495]])"
      ]
     },
     "execution_count": 13,
     "metadata": {},
     "output_type": "execute_result"
    }
   ],
   "source": [
    "torch_a=torch.from_numpy(numpy_a) # numpy转化为tensor\n",
    "torch_a"
   ]
  },
  {
   "cell_type": "code",
   "execution_count": 14,
   "metadata": {},
   "outputs": [
    {
     "data": {
      "text/plain": [
       "'torch.FloatTensor'"
      ]
     },
     "execution_count": 14,
     "metadata": {},
     "output_type": "execute_result"
    }
   ],
   "source": [
    "cpu_a=torch.rand(4,3)\n",
    "cpu_a.type()"
   ]
  },
  {
   "cell_type": "code",
   "execution_count": 15,
   "metadata": {},
   "outputs": [
    {
     "data": {
      "text/plain": [
       "'torch.cuda.FloatTensor'"
      ]
     },
     "execution_count": 15,
     "metadata": {},
     "output_type": "execute_result"
    }
   ],
   "source": [
    "gpu_a=cpu_a.cuda()  # 从CPU移到GPU\n",
    "gpu_a.type()"
   ]
  },
  {
   "cell_type": "code",
   "execution_count": 16,
   "metadata": {},
   "outputs": [
    {
     "name": "stdout",
     "output_type": "stream",
     "text": [
      "cuda\n"
     ]
    },
    {
     "data": {
      "text/plain": [
       "'torch.cuda.FloatTensor'"
      ]
     },
     "execution_count": 16,
     "metadata": {},
     "output_type": "execute_result"
    }
   ],
   "source": [
    "cpu_b=gpu_a.cpu() # 从GPU到CPU\n",
    "device=torch.device(\"cuda\" if torch.cuda.is_available() else \"cpu\")\n",
    "print(device)\n",
    "gpu_b=cpu_b.to(device)\n",
    "gpu_b.type()"
   ]
  },
  {
   "cell_type": "code",
   "execution_count": 17,
   "metadata": {},
   "outputs": [
    {
     "name": "stdout",
     "output_type": "stream",
     "text": [
      "tensor([ 1.7325, -0.0469,  1.0035]) tensor([2, 2, 1])\n"
     ]
    }
   ],
   "source": [
    "x = torch.randn(3, 3)\n",
    "max_value,max_idx=torch.max(x,dim=1)\n",
    "print(max_value,max_idx)"
   ]
  },
  {
   "cell_type": "code",
   "execution_count": 20,
   "metadata": {},
   "outputs": [
    {
     "name": "stdout",
     "output_type": "stream",
     "text": [
      "tensor([[-0.6761,  2.0759,  2.7236],\n",
      "        [-0.3316, -1.5625,  0.6100],\n",
      "        [-0.8383,  0.2733,  0.1697]])\n"
     ]
    }
   ],
   "source": [
    "y=torch.randn(3,3)\n",
    "x.add_(y)\n",
    "print(x)"
   ]
  },
  {
   "cell_type": "code",
   "execution_count": null,
   "metadata": {
    "collapsed": true
   },
   "outputs": [],
   "source": []
  }
 ],
 "metadata": {
  "kernelspec": {
   "display_name": "Python conda",
   "language": "python",
   "name": "base"
  },
  "language_info": {
   "codemirror_mode": {
    "name": "ipython",
    "version": 3
   },
   "file_extension": ".py",
   "mimetype": "text/x-python",
   "name": "python",
   "nbconvert_exporter": "python",
   "pygments_lexer": "ipython3",
   "version": "3.6.8"
  }
 },
 "nbformat": 4,
 "nbformat_minor": 2
}
