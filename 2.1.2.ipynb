{
 "cells": [
  {
   "cell_type": "code",
   "execution_count": 1,
   "metadata": {},
   "outputs": [
    {
     "data": {
      "text/plain": [
       "'1.0.1.post2'"
      ]
     },
     "execution_count": 1,
     "metadata": {},
     "output_type": "execute_result"
    }
   ],
   "source": [
    "import torch\n",
    "torch.__version__"
   ]
  },
  {
   "cell_type": "code",
   "execution_count": 3,
   "metadata": {},
   "outputs": [
    {
     "data": {
      "text/plain": [
       "tensor([[0.6669, 0.4055, 0.7057, 0.3359, 0.2441],\n",
       "        [0.7847, 0.7999, 0.4391, 0.4794, 0.8456],\n",
       "        [0.7604, 0.5605, 0.9466, 0.2803, 0.9922],\n",
       "        [0.5181, 0.3635, 0.3623, 0.1878, 0.3224],\n",
       "        [0.5666, 0.5807, 0.8751, 0.9078, 0.4164]], requires_grad=True)"
      ]
     },
     "execution_count": 3,
     "metadata": {},
     "output_type": "execute_result"
    }
   ],
   "source": [
    "x=torch.rand(5,5,requires_grad=True)\n",
    "x"
   ]
  },
  {
   "cell_type": "code",
   "execution_count": 4,
   "metadata": {},
   "outputs": [
    {
     "data": {
      "text/plain": [
       "tensor([[0.4041, 0.2805, 0.6339, 0.6633, 0.8785],\n",
       "        [0.4087, 0.7148, 0.3354, 0.3032, 0.5436],\n",
       "        [0.8177, 0.7742, 0.0581, 0.7392, 0.1581],\n",
       "        [0.2726, 0.8519, 0.9791, 0.4846, 0.5375],\n",
       "        [0.5606, 0.2834, 0.3129, 0.7369, 0.5189]], requires_grad=True)"
      ]
     },
     "execution_count": 4,
     "metadata": {},
     "output_type": "execute_result"
    }
   ],
   "source": [
    "y=torch.rand(5,5,requires_grad=True)\n",
    "y"
   ]
  },
  {
   "cell_type": "code",
   "execution_count": 5,
   "metadata": {},
   "outputs": [
    {
     "data": {
      "text/plain": [
       "tensor(27.5990, grad_fn=<SumBackward0>)"
      ]
     },
     "execution_count": 5,
     "metadata": {},
     "output_type": "execute_result"
    }
   ],
   "source": [
    "z=torch.sum(x+y)\n",
    "z"
   ]
  },
  {
   "cell_type": "code",
   "execution_count": 6,
   "metadata": {
    "collapsed": true
   },
   "outputs": [],
   "source": [
    "z.backward()"
   ]
  },
  {
   "cell_type": "code",
   "execution_count": 7,
   "metadata": {},
   "outputs": [
    {
     "name": "stdout",
     "output_type": "stream",
     "text": [
      "tensor([[1., 1., 1., 1., 1.],\n",
      "        [1., 1., 1., 1., 1.],\n",
      "        [1., 1., 1., 1., 1.],\n",
      "        [1., 1., 1., 1., 1.],\n",
      "        [1., 1., 1., 1., 1.]]) tensor([[1., 1., 1., 1., 1.],\n",
      "        [1., 1., 1., 1., 1.],\n",
      "        [1., 1., 1., 1., 1.],\n",
      "        [1., 1., 1., 1., 1.],\n",
      "        [1., 1., 1., 1., 1.]])\n"
     ]
    }
   ],
   "source": [
    "print(x.grad,y.grad) #查看一下x和y的梯度"
   ]
  },
  {
   "cell_type": "code",
   "execution_count": 8,
   "metadata": {},
   "outputs": [
    {
     "data": {
      "text/plain": [
       "tensor([[0.3140, 0.6084, 0.1003, 0.2512, 0.8438],\n",
       "        [0.3088, 0.1916, 0.3730, 0.6227, 0.4870],\n",
       "        [0.0433, 0.0864, 0.6575, 0.8902, 0.4181],\n",
       "        [0.0655, 0.1404, 0.3050, 0.8710, 0.6977],\n",
       "        [1.0529, 0.6507, 0.8228, 0.1455, 0.1748]], grad_fn=<AddBackward0>)"
      ]
     },
     "execution_count": 8,
     "metadata": {},
     "output_type": "execute_result"
    }
   ],
   "source": [
    "x=torch.rand(5,5,requires_grad=True)\n",
    "y=torch.rand(5,5,requires_grad=True)\n",
    "z=x**2+y**3\n",
    "z"
   ]
  },
  {
   "cell_type": "code",
   "execution_count": 9,
   "metadata": {},
   "outputs": [
    {
     "name": "stdout",
     "output_type": "stream",
     "text": [
      "tensor([[0.9822, 1.5511, 0.5504, 0.0914, 1.6974],\n",
      "        [0.3087, 0.8622, 0.9923, 0.8688, 0.1533],\n",
      "        [0.3746, 0.5771, 1.3534, 0.6948, 1.2931],\n",
      "        [0.0258, 0.7479, 0.4561, 1.7604, 1.5424],\n",
      "        [1.7331, 1.3201, 1.8141, 0.7629, 0.6131]])\n"
     ]
    }
   ],
   "source": [
    "z.backward(torch.ones_like(x)) #返回值不是一个scalar，需要输入一个大小相同的张量作为参数\n",
    "print(x.grad)"
   ]
  },
  {
   "cell_type": "code",
   "execution_count": 10,
   "metadata": {},
   "outputs": [
    {
     "name": "stdout",
     "output_type": "stream",
     "text": [
      "False\n"
     ]
    }
   ],
   "source": [
    "with torch.no_grad():\n",
    "    print((x+y*2).requires_grad)"
   ]
  }
 ],
 "metadata": {
  "kernelspec": {
   "display_name": "Python conda",
   "language": "python",
   "name": "base"
  },
  "language_info": {
   "codemirror_mode": {
    "name": "ipython",
    "version": 3
   },
   "file_extension": ".py",
   "mimetype": "text/x-python",
   "name": "python",
   "nbconvert_exporter": "python",
   "pygments_lexer": "ipython3",
   "version": "3.6.8"
  }
 },
 "nbformat": 4,
 "nbformat_minor": 2
}
