{
 "cells": [
  {
   "cell_type": "code",
   "execution_count": 1,
   "metadata": {},
   "outputs": [
    {
     "data": {
      "text/plain": [
       "'1.0.1.post2'"
      ]
     },
     "execution_count": 1,
     "metadata": {},
     "output_type": "execute_result"
    }
   ],
   "source": [
    "import torch\n",
    "import torch.nn as nn\n",
    "torch.__version__"
   ]
  },
  {
   "cell_type": "code",
   "execution_count": 2,
   "metadata": {
    "collapsed": true
   },
   "outputs": [],
   "source": [
    "import torch.nn.functional as F"
   ]
  },
  {
   "cell_type": "code",
   "execution_count": 3,
   "metadata": {},
   "outputs": [
    {
     "name": "stdout",
     "output_type": "stream",
     "text": [
      "Net(\n",
      "  (conv1): Conv2d(1, 6, kernel_size=(3, 3), stride=(1, 1))\n",
      "  (fc1): Linear(in_features=1350, out_features=10, bias=True)\n",
      ")\n"
     ]
    }
   ],
   "source": [
    "class Net(nn.Module):\n",
    "    def __init__(self):\n",
    "        # nn.Module子类的函数必须在构造函数中执行父类的构造函数\n",
    "        super(Net,self).__init__()\n",
    "        # 卷积层中‘1’表示输入图片为单通道，‘6’表示输出通道数，‘3’表示卷积核为3×3\n",
    "        self.conv1=nn.Conv2d(1,6,3)\n",
    "        # 线性层，输入字350个特征，输出10个特征\n",
    "        self.fc1=nn.Linear(1350,10)\n",
    "    # 正向传播\n",
    "    def forward(self,x):\n",
    "        # 卷积=》激活=》池化\n",
    "        x=self.conv1(x)\n",
    "        x=F.relu(x)\n",
    "        x=F.max_pool2d(x,(2,2))\n",
    "        x=F.relu(x)\n",
    "        x=x.view(x.size()[0],-1) #reshape,'-1'表示自适应\n",
    "        x=self.fc1(x)\n",
    "        return x\n",
    "net=Net()\n",
    "print(net)"
   ]
  },
  {
   "cell_type": "code",
   "execution_count": 4,
   "metadata": {},
   "outputs": [
    {
     "name": "stdout",
     "output_type": "stream",
     "text": [
      "Parameter containing:\n",
      "tensor([[[[-0.1519,  0.0142,  0.2089],\n",
      "          [ 0.0025,  0.1608,  0.1820],\n",
      "          [-0.0070,  0.3042, -0.1662]]],\n",
      "\n",
      "\n",
      "        [[[ 0.1403, -0.3036,  0.1329],\n",
      "          [ 0.3113, -0.1509, -0.2164],\n",
      "          [-0.2207, -0.3010,  0.1188]]],\n",
      "\n",
      "\n",
      "        [[[-0.1758, -0.3090, -0.1289],\n",
      "          [-0.0013, -0.3308, -0.1798],\n",
      "          [-0.1530,  0.0936, -0.0972]]],\n",
      "\n",
      "\n",
      "        [[[-0.1587,  0.1828,  0.0315],\n",
      "          [ 0.1324,  0.0575, -0.0435],\n",
      "          [ 0.0490,  0.0596,  0.2964]]],\n",
      "\n",
      "\n",
      "        [[[ 0.0407,  0.0031,  0.2483],\n",
      "          [-0.1958, -0.1220,  0.1173],\n",
      "          [ 0.1139, -0.3188, -0.0924]]],\n",
      "\n",
      "\n",
      "        [[[-0.0283,  0.1543,  0.0170],\n",
      "          [-0.0187, -0.2998, -0.2954],\n",
      "          [ 0.0755,  0.0776,  0.2982]]]], requires_grad=True)\n",
      "Parameter containing:\n",
      "tensor([-0.1088,  0.0280,  0.2865, -0.2084,  0.1847, -0.2644],\n",
      "       requires_grad=True)\n",
      "Parameter containing:\n",
      "tensor([[ 0.0182, -0.0197, -0.0266,  ..., -0.0162, -0.0270,  0.0185],\n",
      "        [-0.0170, -0.0030,  0.0203,  ...,  0.0267, -0.0196, -0.0260],\n",
      "        [-0.0160,  0.0219,  0.0097,  ..., -0.0040,  0.0154,  0.0165],\n",
      "        ...,\n",
      "        [ 0.0026, -0.0267, -0.0063,  ...,  0.0208,  0.0252,  0.0234],\n",
      "        [ 0.0099, -0.0085, -0.0264,  ...,  0.0263, -0.0114, -0.0212],\n",
      "        [-0.0133, -0.0163,  0.0175,  ..., -0.0051, -0.0059,  0.0125]],\n",
      "       requires_grad=True)\n",
      "Parameter containing:\n",
      "tensor([ 0.0268, -0.0271,  0.0095,  0.0111,  0.0212,  0.0036,  0.0141, -0.0153,\n",
      "         0.0111,  0.0084], requires_grad=True)\n"
     ]
    }
   ],
   "source": [
    "for parameters in net.parameters():\n",
    "    print(parameters)"
   ]
  },
  {
   "cell_type": "code",
   "execution_count": 7,
   "metadata": {},
   "outputs": [
    {
     "name": "stdout",
     "output_type": "stream",
     "text": [
      "conv1.weight : torch.Size([6, 1, 3, 3])\n",
      "conv1.bias : torch.Size([6])\n",
      "fc1.weight : torch.Size([10, 1350])\n",
      "fc1.bias : torch.Size([10])\n"
     ]
    }
   ],
   "source": [
    "for name,parameters in net.named_parameters():\n",
    "    print(name,\":\",parameters.size())"
   ]
  },
  {
   "cell_type": "code",
   "execution_count": 8,
   "metadata": {},
   "outputs": [
    {
     "data": {
      "text/plain": [
       "torch.Size([1, 10])"
      ]
     },
     "execution_count": 8,
     "metadata": {},
     "output_type": "execute_result"
    }
   ],
   "source": [
    "input=torch.randn(1,1,32,32)\n",
    "out=net(input)\n",
    "out.size()"
   ]
  },
  {
   "cell_type": "code",
   "execution_count": 9,
   "metadata": {
    "collapsed": true
   },
   "outputs": [],
   "source": [
    "net.zero_grad()\n",
    "out.backward(torch.ones(1,10))"
   ]
  },
  {
   "cell_type": "code",
   "execution_count": 10,
   "metadata": {},
   "outputs": [
    {
     "name": "stdout",
     "output_type": "stream",
     "text": [
      "31.026832580566406\n"
     ]
    }
   ],
   "source": [
    "y=torch.arange(0,10).view(1,10).float()\n",
    "criterion=nn.MSELoss()\n",
    "loss=criterion(out,y)\n",
    "print(loss.item())  #loss是个scalar，可以直接使用item获取它的python类型的数值"
   ]
  },
  {
   "cell_type": "code",
   "execution_count": 11,
   "metadata": {
    "collapsed": true
   },
   "outputs": [],
   "source": [
    "import torch.optim"
   ]
  },
  {
   "cell_type": "code",
   "execution_count": 12,
   "metadata": {
    "collapsed": true
   },
   "outputs": [],
   "source": [
    "out=net(input)\n",
    "criterion=nn.MSELoss()\n",
    "loss=criterion(out,y)\n",
    "optimizer=torch.optim.SGD(net.parameters(),lr=0.01) # SGD只需要参数和学习率\n",
    "optimizer.zero_grad() # 梯度清零\n",
    "loss.backward()\n",
    "optimizer.step() #更新参数"
   ]
  },
  {
   "cell_type": "code",
   "execution_count": null,
   "metadata": {
    "collapsed": true
   },
   "outputs": [],
   "source": []
  }
 ],
 "metadata": {
  "kernelspec": {
   "display_name": "Python conda",
   "language": "python",
   "name": "base"
  },
  "language_info": {
   "codemirror_mode": {
    "name": "ipython",
    "version": 3
   },
   "file_extension": ".py",
   "mimetype": "text/x-python",
   "name": "python",
   "nbconvert_exporter": "python",
   "pygments_lexer": "ipython3",
   "version": "3.6.8"
  }
 },
 "nbformat": 4,
 "nbformat_minor": 2
}
